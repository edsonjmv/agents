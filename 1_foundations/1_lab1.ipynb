{
 "cells": [
  {
   "cell_type": "markdown",
   "metadata": {},
   "source": [
    "# Welcome to the start of your adventure in Agentic AI"
   ]
  },
  {
   "cell_type": "markdown",
   "metadata": {},
   "source": [
    "<table style=\"margin: 0; text-align: left; width:100%\">\n",
    "    <tr>\n",
    "        <td style=\"width: 150px; height: 150px; vertical-align: middle;\">\n",
    "            <img src=\"../assets/stop.png\" width=\"150\" height=\"150\" style=\"display: block;\" />\n",
    "        </td>\n",
    "        <td>\n",
    "            <h2 style=\"color:#ff7800;\">Are you ready for action??</h2>\n",
    "            <span style=\"color:#ff7800;\">Have you completed all the setup steps in the <a href=\"../setup/\">setup</a> folder?<br/>\n",
    "            Have you read the <a href=\"../README.md\">README</a>? Many common questions are answered here!<br/>\n",
    "            Have you checked out the guides in the <a href=\"../guides/01_intro.ipynb\">guides</a> folder?<br/>\n",
    "            Well in that case, you're ready!!\n",
    "            </span>\n",
    "        </td>\n",
    "    </tr>\n",
    "</table>"
   ]
  },
  {
   "cell_type": "markdown",
   "metadata": {},
   "source": [
    "<table style=\"margin: 0; text-align: left; width:100%\">\n",
    "    <tr>\n",
    "        <td style=\"width: 150px; height: 150px; vertical-align: middle;\">\n",
    "            <img src=\"../assets/tools.png\" width=\"150\" height=\"150\" style=\"display: block;\" />\n",
    "        </td>\n",
    "        <td>\n",
    "            <h2 style=\"color:#00bfff;\">This code is a live resource - keep an eye out for my updates</h2>\n",
    "            <span style=\"color:#00bfff;\">I push updates regularly. As people ask questions or have problems, I add more examples and improve explanations. As a result, the code below might not be identical to the videos, as I've added more steps and better comments. Consider this like an interactive book that accompanies the lectures.<br/><br/>\n",
    "            I try to send emails regularly with important updates related to the course. You can find this in the 'Announcements' section of Udemy in the left sidebar. You can also choose to receive my emails via your Notification Settings in Udemy. I'm respectful of your inbox and always try to add value with my emails!\n",
    "            </span>\n",
    "        </td>\n",
    "    </tr>\n",
    "</table>"
   ]
  },
  {
   "cell_type": "markdown",
   "metadata": {},
   "source": [
    "### And please do remember to contact me if I can help\n",
    "\n",
    "And I love to connect: https://www.linkedin.com/in/eddonner/\n",
    "\n",
    "\n",
    "### New to Notebooks like this one? Head over to the guides folder!\n",
    "\n",
    "Just to check you've already added the Python and Jupyter extensions to Cursor, if not already installed:\n",
    "- Open extensions (View >> extensions)\n",
    "- Search for python, and when the results show, click on the ms-python one, and Install it if not already installed\n",
    "- Search for jupyter, and when the results show, click on the Microsoft one, and Install it if not already installed  \n",
    "Then View >> Explorer to bring back the File Explorer.\n",
    "\n",
    "And then:\n",
    "1. Click where it says \"Select Kernel\" near the top right, and select the option called `.venv (Python 3.12.9)` or similar, which should be the first choice or the most prominent choice. You may need to choose \"Python Environments\" first.\n",
    "2. Click in each \"cell\" below, starting with the cell immediately below this text, and press Shift+Enter to run\n",
    "3. Enjoy!\n",
    "\n",
    "After you click \"Select Kernel\", if there is no option like `.venv (Python 3.12.9)` then please do the following:  \n",
    "1. On Mac: From the Cursor menu, choose Settings >> VS Code Settings (NOTE: be sure to select `VSCode Settings` not `Cursor Settings`);  \n",
    "On Windows PC: From the File menu, choose Preferences >> VS Code Settings(NOTE: be sure to select `VSCode Settings` not `Cursor Settings`)  \n",
    "2. In the Settings search bar, type \"venv\"  \n",
    "3. In the field \"Path to folder with a list of Virtual Environments\" put the path to the project root, like C:\\Users\\username\\projects\\agents (on a Windows PC) or /Users/username/projects/agents (on Mac or Linux).  \n",
    "And then try again.\n",
    "\n",
    "Having problems with missing Python versions in that list? Have you ever used Anaconda before? It might be interferring. Quit Cursor, bring up a new command line, and make sure that your Anaconda environment is deactivated:    \n",
    "`conda deactivate`  \n",
    "And if you still have any problems with conda and python versions, it's possible that you will need to run this too:  \n",
    "`conda config --set auto_activate_base false`  \n",
    "and then from within the Agents directory, you should be able to run `uv python list` and see the Python 3.12 version."
   ]
  },
  {
   "cell_type": "code",
   "execution_count": 1,
   "metadata": {},
   "outputs": [],
   "source": [
    "# First let's do an import. If you get an Import Error, double check that your Kernel is correct..\n",
    "\n",
    "from dotenv import load_dotenv\n"
   ]
  },
  {
   "cell_type": "code",
   "execution_count": 2,
   "metadata": {},
   "outputs": [
    {
     "data": {
      "text/plain": [
       "True"
      ]
     },
     "execution_count": 2,
     "metadata": {},
     "output_type": "execute_result"
    }
   ],
   "source": [
    "# Next it's time to load the API keys into environment variables\n",
    "# If this returns false, see the next cell!\n",
    "\n",
    "load_dotenv(override=True)"
   ]
  },
  {
   "cell_type": "markdown",
   "metadata": {},
   "source": [
    "### Wait, did that just output `False`??\n",
    "\n",
    "If so, the most common reason is that you didn't save your `.env` file after adding the key! Be sure to have saved.\n",
    "\n",
    "Also, make sure the `.env` file is named precisely `.env` and is in the project root directory (`agents`)\n",
    "\n",
    "By the way, your `.env` file should have a stop symbol next to it in Cursor on the left, and that's actually a good thing: that's Cursor saying to you, \"hey, I realize this is a file filled with secret information, and I'm not going to send it to an external AI to suggest changes, because your keys should not be shown to anyone else.\""
   ]
  },
  {
   "cell_type": "markdown",
   "metadata": {},
   "source": [
    "<table style=\"margin: 0; text-align: left; width:100%\">\n",
    "    <tr>\n",
    "        <td style=\"width: 150px; height: 150px; vertical-align: middle;\">\n",
    "            <img src=\"../assets/stop.png\" width=\"150\" height=\"150\" style=\"display: block;\" />\n",
    "        </td>\n",
    "        <td>\n",
    "            <h2 style=\"color:#ff7800;\">Final reminders</h2>\n",
    "            <span style=\"color:#ff7800;\">1. If you're not confident about Environment Variables or Web Endpoints / APIs, please read Topics 3 and 5 in this <a href=\"../guides/04_technical_foundations.ipynb\">technical foundations guide</a>.<br/>\n",
    "            2. If you want to use AIs other than OpenAI, like Gemini, DeepSeek or Ollama (free), please see the first section in this <a href=\"../guides/09_ai_apis_and_ollama.ipynb\">AI APIs guide</a>.<br/>\n",
    "            3. If you ever get a Name Error in Python, you can always fix it immediately; see the last section of this <a href=\"../guides/06_python_foundations.ipynb\">Python Foundations guide</a> and follow both tutorials and exercises.<br/>\n",
    "            </span>\n",
    "        </td>\n",
    "    </tr>\n",
    "</table>"
   ]
  },
  {
   "cell_type": "code",
   "execution_count": 3,
   "metadata": {},
   "outputs": [
    {
     "name": "stdout",
     "output_type": "stream",
     "text": [
      "OpenAI API Key exists and begins sk-proj-\n"
     ]
    }
   ],
   "source": [
    "# Check the key - if you're not using OpenAI, check whichever key you're using! Ollama doesn't need a key.\n",
    "\n",
    "import os\n",
    "openai_api_key = os.getenv('OPENAI_API_KEY')\n",
    "\n",
    "if openai_api_key:\n",
    "    print(f\"OpenAI API Key exists and begins {openai_api_key[:8]}\")\n",
    "else:\n",
    "    print(\"OpenAI API Key not set - please head to the troubleshooting guide in the setup folder\")\n",
    "    \n"
   ]
  },
  {
   "cell_type": "code",
   "execution_count": 4,
   "metadata": {},
   "outputs": [],
   "source": [
    "# And now - the all important import statement\n",
    "# If you get an import error - head over to troubleshooting in the Setup folder\n",
    "# Even for other LLM providers like Gemini, you still use this OpenAI import - see Guide 9 for why\n",
    "\n",
    "from openai import OpenAI"
   ]
  },
  {
   "cell_type": "code",
   "execution_count": 5,
   "metadata": {},
   "outputs": [],
   "source": [
    "# And now we'll create an instance of the OpenAI class\n",
    "# If you're not sure what it means to create an instance of a class - head over to the guides folder (guide 6)!\n",
    "# If you get a NameError - head over to the guides folder (guide 6)to learn about NameErrors - always instantly fixable\n",
    "# If you're not using OpenAI, you just need to slightly modify this - precise instructions are in the AI APIs guide (guide 9)\n",
    "\n",
    "openai = OpenAI()"
   ]
  },
  {
   "cell_type": "code",
   "execution_count": 6,
   "metadata": {},
   "outputs": [],
   "source": [
    "# Create a list of messages in the familiar OpenAI format\n",
    "\n",
    "messages = [{\"role\": \"user\", \"content\": \"What is 2+2?\"}]"
   ]
  },
  {
   "cell_type": "code",
   "execution_count": 7,
   "metadata": {},
   "outputs": [
    {
     "name": "stdout",
     "output_type": "stream",
     "text": [
      "2 + 2 equals 4.\n"
     ]
    }
   ],
   "source": [
    "# And now call it! Any problems, head to the troubleshooting guide\n",
    "# This uses GPT 4.1 nano, the incredibly cheap model\n",
    "# The APIs guide (guide 9) has exact instructions for using even cheaper or free alternatives to OpenAI\n",
    "# If you get a NameError, head to the guides folder (guide 6) to learn about NameErrors - always instantly fixable\n",
    "\n",
    "response = openai.chat.completions.create(\n",
    "    model=\"gpt-4.1-nano\",\n",
    "    messages=messages\n",
    ")\n",
    "\n",
    "print(response.choices[0].message.content)\n"
   ]
  },
  {
   "cell_type": "code",
   "execution_count": 8,
   "metadata": {},
   "outputs": [],
   "source": [
    "# And now - let's ask for a question:\n",
    "\n",
    "question = \"Please propose a hard, challenging question to assess someone's IQ. Respond only with the question.\"\n",
    "messages = [{\"role\": \"user\", \"content\": question}]\n"
   ]
  },
  {
   "cell_type": "code",
   "execution_count": 9,
   "metadata": {},
   "outputs": [
    {
     "name": "stdout",
     "output_type": "stream",
     "text": [
      "If two typists can type two pages in two minutes, how many typists will it take to type 18 pages in six minutes?\n"
     ]
    }
   ],
   "source": [
    "# ask it - this uses GPT 4.1 mini, still cheap but more powerful than nano\n",
    "\n",
    "response = openai.chat.completions.create(\n",
    "    model=\"gpt-4.1-mini\",\n",
    "    messages=messages\n",
    ")\n",
    "\n",
    "question = response.choices[0].message.content\n",
    "\n",
    "print(question)\n"
   ]
  },
  {
   "cell_type": "code",
   "execution_count": 11,
   "metadata": {},
   "outputs": [],
   "source": [
    "# form a new messages list\n",
    "messages = [{\"role\": \"user\", \"content\": question}]\n"
   ]
  },
  {
   "cell_type": "code",
   "execution_count": 12,
   "metadata": {},
   "outputs": [
    {
     "name": "stdout",
     "output_type": "stream",
     "text": [
      "Let's analyze the problem step-by-step.\n",
      "\n",
      "### Given:\n",
      "- 2 typists can type 2 pages in 2 minutes.\n",
      "- Question: How many typists are needed to type 18 pages in 6 minutes?\n",
      "\n",
      "---\n",
      "\n",
      "### Step 1: Find the typing rate of one typist.\n",
      "\n",
      "If 2 typists type 2 pages in 2 minutes, then:\n",
      "\n",
      "- Typing rate of 2 typists = 2 pages / 2 minutes = 1 page per minute.\n",
      "\n",
      "Therefore, typing rate of 1 typist = (1 page per minute) / 2 = 0.5 pages per minute.\n",
      "\n",
      "---\n",
      "\n",
      "### Step 2: Calculate pages typed per typist in 6 minutes.\n",
      "\n",
      "Since 1 typist types 0.5 pages per minute, in 6 minutes, 1 typist types:\n",
      "\n",
      "0.5 pages/min × 6 min = 3 pages.\n",
      "\n",
      "---\n",
      "\n",
      "### Step 3: Calculate how many typists are needed to type 18 pages in 6 minutes.\n",
      "\n",
      "Let \\( x \\) be the number of typists required.\n",
      "\n",
      "Total pages typed by \\( x \\) typists in 6 minutes = pages per typist × number of typists = 3 pages × \\( x \\).\n",
      "\n",
      "We want this to equal 18 pages:\n",
      "\n",
      "\\( 3x = 18 \\)\n",
      "\n",
      "\\( x = \\frac{18}{3} = 6 \\).\n",
      "\n",
      "---\n",
      "\n",
      "### **Answer:**\n",
      "\n",
      "It will take **6 typists** to type 18 pages in 6 minutes.\n"
     ]
    }
   ],
   "source": [
    "# Ask it again\n",
    "\n",
    "response = openai.chat.completions.create(\n",
    "    model=\"gpt-4.1-mini\",\n",
    "    messages=messages\n",
    ")\n",
    "\n",
    "answer = response.choices[0].message.content\n",
    "print(answer)\n"
   ]
  },
  {
   "cell_type": "code",
   "execution_count": 13,
   "metadata": {},
   "outputs": [
    {
     "data": {
      "text/markdown": [
       "Let's analyze the problem step-by-step.\n",
       "\n",
       "### Given:\n",
       "- 2 typists can type 2 pages in 2 minutes.\n",
       "- Question: How many typists are needed to type 18 pages in 6 minutes?\n",
       "\n",
       "---\n",
       "\n",
       "### Step 1: Find the typing rate of one typist.\n",
       "\n",
       "If 2 typists type 2 pages in 2 minutes, then:\n",
       "\n",
       "- Typing rate of 2 typists = 2 pages / 2 minutes = 1 page per minute.\n",
       "\n",
       "Therefore, typing rate of 1 typist = (1 page per minute) / 2 = 0.5 pages per minute.\n",
       "\n",
       "---\n",
       "\n",
       "### Step 2: Calculate pages typed per typist in 6 minutes.\n",
       "\n",
       "Since 1 typist types 0.5 pages per minute, in 6 minutes, 1 typist types:\n",
       "\n",
       "0.5 pages/min × 6 min = 3 pages.\n",
       "\n",
       "---\n",
       "\n",
       "### Step 3: Calculate how many typists are needed to type 18 pages in 6 minutes.\n",
       "\n",
       "Let \\( x \\) be the number of typists required.\n",
       "\n",
       "Total pages typed by \\( x \\) typists in 6 minutes = pages per typist × number of typists = 3 pages × \\( x \\).\n",
       "\n",
       "We want this to equal 18 pages:\n",
       "\n",
       "\\( 3x = 18 \\)\n",
       "\n",
       "\\( x = \\frac{18}{3} = 6 \\).\n",
       "\n",
       "---\n",
       "\n",
       "### **Answer:**\n",
       "\n",
       "It will take **6 typists** to type 18 pages in 6 minutes."
      ],
      "text/plain": [
       "<IPython.core.display.Markdown object>"
      ]
     },
     "metadata": {},
     "output_type": "display_data"
    }
   ],
   "source": [
    "from IPython.display import Markdown, display\n",
    "\n",
    "display(Markdown(answer))\n",
    "\n"
   ]
  },
  {
   "cell_type": "markdown",
   "metadata": {},
   "source": [
    "# Congratulations!\n",
    "\n",
    "That was a small, simple step in the direction of Agentic AI, with your new environment!\n",
    "\n",
    "Next time things get more interesting..."
   ]
  },
  {
   "cell_type": "markdown",
   "metadata": {},
   "source": [
    "<table style=\"margin: 0; text-align: left; width:100%\">\n",
    "    <tr>\n",
    "        <td style=\"width: 150px; height: 150px; vertical-align: middle;\">\n",
    "            <img src=\"../assets/exercise.png\" width=\"150\" height=\"150\" style=\"display: block;\" />\n",
    "        </td>\n",
    "        <td>\n",
    "            <h2 style=\"color:#ff7800;\">Exercise</h2>\n",
    "            <span style=\"color:#ff7800;\">Now try this commercial application:<br/>\n",
    "            First ask the LLM to pick a business area that might be worth exploring for an Agentic AI opportunity.<br/>\n",
    "            Then ask the LLM to present a pain-point in that industry - something challenging that might be ripe for an Agentic solution.<br/>\n",
    "            Finally have 3 third LLM call propose the Agentic AI solution. <br/>\n",
    "            We will cover this at up-coming labs, so don't worry if you're unsure.. just give it a try!\n",
    "            </span>\n",
    "        </td>\n",
    "    </tr>\n",
    "</table>"
   ]
  },
  {
   "cell_type": "code",
   "execution_count": 15,
   "metadata": {},
   "outputs": [
    {
     "name": "stdout",
     "output_type": "stream",
     "text": [
      "business_idea\n"
     ]
    },
    {
     "data": {
      "text/markdown": [
       "One promising business area for exploring an Agentic AI opportunity is **Supply Chain and Logistics Management**.\n",
       "\n",
       "### Why this area?\n",
       "\n",
       "- **Complex decision-making:** Supply chains involve numerous dynamic variables—inventory levels, demand forecasts, shipping routes, supplier reliability, tariff changes, and unexpected disruptions. An Agentic AI can autonomously analyze vast data streams and make proactive decisions to optimize operations.\n",
       "  \n",
       "- **Real-time responsiveness:** Agentic AI systems can monitor real-time data (e.g., traffic conditions, weather, port congestion) and reroute shipments or adjust schedules without human intervention, reducing delays and costs.\n",
       "\n",
       "- **Cost savings and efficiency:** Automating negotiation with suppliers, freight carriers, and warehouses, as well as dynamic pricing and order prioritization, can drive substantial financial benefits.\n",
       "\n",
       "- **Scalability:** Large enterprises and SMEs alike can benefit from AI agents capable of managing complex logistics, enabling scalable solutions that grow with the business.\n",
       "\n",
       "### Potential applications:\n",
       "- Autonomous procurement agents that negotiate contract terms based on market conditions.\n",
       "- AI-driven demand planning and inventory optimization agents.\n",
       "- Intelligent shipment tracking agents that predict and mitigate delays.\n",
       "- Dynamic route planning and fleet management agents.\n",
       "\n",
       "Overall, integrating Agentic AI in supply chain and logistics could transform an essential backbone of many industries by increasing agility, reducing costs, and improving customer satisfaction."
      ],
      "text/plain": [
       "<IPython.core.display.Markdown object>"
      ]
     },
     "metadata": {},
     "output_type": "display_data"
    },
    {
     "name": "stdout",
     "output_type": "stream",
     "text": [
      "pain_point\n"
     ]
    },
    {
     "data": {
      "text/markdown": [
       "A significant pain-point in the supply chain and logistics industry that is ripe for an Agentic AI solution is **the management of supply chain disruptions caused by unpredictable external factors**.  \n",
       "\n",
       "### The Pain-point:\n",
       "Supply chains today are extremely vulnerable to sudden and unforeseen disruptions such as natural disasters, geopolitical events, sudden supplier bankruptcies, port strikes, or rapid changes in trade policies (e.g., tariffs). These events can cascade across the supply network, leading to delays, increased costs, stockouts, and lost sales.\n",
       "\n",
       "### Why is this challenging?\n",
       "\n",
       "- **High complexity and interdependencies:** Supply chains involve multiple layers of suppliers, manufacturers, logistics providers, and retailers, often spread globally. Disruptions in one node can ripple unpredictably.\n",
       "  \n",
       "- **Lack of real-time holistic visibility:** Companies often have siloed data and lack a unified view to quickly understand the disruption’s impact across multiple tiers.\n",
       "\n",
       "- **Slow human response:** Manual decision-making and coordination in response to disruptions is too slow and cannot continuously monitor emerging risks or dynamically adjust plans at scale.\n",
       "\n",
       "- **Trade-offs and multi-objective optimization:** Decisions must balance competing objectives — cost, speed, inventory levels, customer satisfaction — with limited or rapidly changing information.\n",
       "\n",
       "### How Agentic AI can help:\n",
       "Agentic AI systems could autonomously monitor global indicators (news, social media, weather patterns, geopolitical events), supplier health, logistics status, and demand signals in real-time. They could then predict potential disruption scenarios, assess cascading impacts, and autonomously implement mitigation strategies such as rerouting shipments, reallocating inventory, adjusting procurement plans, or initiating alternative supplier negotiations — all dynamically and continuously.\n",
       "\n",
       "This type of proactive, autonomous, multi-agent coordination for disruption management is currently beyond human capabilities at the scale and speed needed, making it a promising area for applying Agentic AI. Such a solution could dramatically increase supply chain resilience and reduce the multi-billion-dollar losses caused by disruptions."
      ],
      "text/plain": [
       "<IPython.core.display.Markdown object>"
      ]
     },
     "metadata": {},
     "output_type": "display_data"
    },
    {
     "name": "stdout",
     "output_type": "stream",
     "text": [
      "solution\n"
     ]
    },
    {
     "data": {
      "text/markdown": [
       "### Proposed Agentic AI Solution for Supply Chain Disruption Management\n",
       "\n",
       "---\n",
       "\n",
       "#### **Solution Name:**  \n",
       "**AgileChain AI — Autonomous Multi-Agent System for Real-Time Supply Chain Resilience**\n",
       "\n",
       "---\n",
       "\n",
       "### High-Level Overview\n",
       "\n",
       "AgileChain AI is an integrated, multi-agent AI platform designed to autonomously anticipate, analyze, and mitigate supply chain disruptions in real-time. Leveraging advanced data ingestion, multi-source analytics, predictive modeling, and dynamic decision-making, AgileChain AI provides holistic visibility across global supply networks and autonomously orchestrates mitigation actions at scale.\n",
       "\n",
       "---\n",
       "\n",
       "### Key Components & Capabilities\n",
       "\n",
       "#### 1. **Data Ingestion & Sensing Agents**\n",
       "- **Global Event Monitoring:** Continuously scan news feeds, social media, government advisories, trade bulletins, weather forecasts, and satellite data to detect early signs of disruption (e.g., natural disasters, strikes, policy changes).\n",
       "- **Supply Network Health Tracking:** Real-time integration with supplier systems, logistics providers, port authorities, and internal ERP/WMS systems to monitor inventory levels, shipment statuses, supplier credit ratings, and operational KPIs.\n",
       "- **IoT & Sensor Data Integration:** Collect data from smart sensors and GPS trackers for fleet locations, warehouse conditions, and shipment integrity.\n",
       "\n",
       "#### 2. **Predictive Disruption Modeling Agents**\n",
       "- Use Machine Learning and causal inference models to predict:\n",
       "  - Probability, timing, and severity of potential disruption events.\n",
       "  - Ripple effects across supply chain tiers, including secondary and tertiary supplier impacts.\n",
       "- Scenario simulation: Evaluate 'what-if' disruption scenarios and their operational and financial consequences.\n",
       "\n",
       "#### 3. **Multi-Agent Coordination and Optimization Engine**\n",
       "- Employ multiple specialized agents focusing on:\n",
       "  - **Routing Agent:** Dynamically reroutes shipments avoiding congested or risky nodes.\n",
       "  - **Inventory Agent:** Reallocates inventory buffers and reroutes stock between warehouses based on predicted shortages.\n",
       "  - **Procurement Agent:** Automatically renegotiate contracts or source orders with alternative suppliers with lean lead times and favorable terms.\n",
       "  - **Fleet Management Agent:** Adjusts fleet deployment and prioritizes critical deliveries.\n",
       "  - **Pricing & Prioritization Agent:** Modulates order fulfillment priorities and passing dynamic pricing signals when applicable.\n",
       "- Agents negotiate and coordinate among themselves to optimize global objectives (cost, speed, service level agreements), resolving trade-offs via multi-objective optimization techniques.\n",
       "\n",
       "#### 4. **Autonomous Decision and Action Layer**\n",
       "- Once optimal mitigation strategies are identified, the system autonomously triggers execution:\n",
       "  - Changes shipment routes via integration with logistics providers.\n",
       "  - Automatically sends renegotiation contracts for procurement.\n",
       "  - Adjusts order fulfillment priorities and inventory transfers without waiting for human approval.\n",
       "- Adjustable autonomy settings enable a human-in-the-loop mode for critical decisions if desired.\n",
       "\n",
       "#### 5. **Unified Visualization and Alerting Dashboard**\n",
       "- Real-time consolidated supply chain visibility with disruption risk heatmaps.\n",
       "- Action recommendations, executed measures log, and impact forecasts.\n",
       "- Collaborative interface for supply chain managers to override or augment AI decisions.\n",
       "\n",
       "---\n",
       "\n",
       "### Business Value & Differentiators\n",
       "\n",
       "| Feature                         | Benefit                                         | Differentiator                                       |\n",
       "|--------------------------------|------------------------------------------------|----------------------------------------------------|\n",
       "| Real-time multi-source monitoring| Early disruption detection and rapid response| Combines unstructured (news/social) + structured (supplier/logistics IoT) data |\n",
       "| Autonomous multi-agent coordination| Dynamic, optimized mitigation actions         | Cross-functional agent negotiation & coordination at speed and scale             |\n",
       "| Predictive ripple effect modeling| Anticipate cascading supply chain risks        | Beyond localized risk alerts, models full-network impacts                        |\n",
       "| Adjustable autonomy controls     | Balance between control and automation          | Custom workflows allowing gradual adoption in enterprises                        |\n",
       "| Scalable architecture            | Suitable for SMEs to multinationals             | Modular platform easily integrates with existing ERP/WMS/logistics providers    |\n",
       "| Continuous learning and improvement| Adaptive to evolving supply chain complexities | Feedback loops improve disruption predictions and decisions over time           |\n",
       "\n",
       "---\n",
       "\n",
       "### Implementation Roadmap\n",
       "\n",
       "1. **Phase 1: Proof of Concept (3–6 months)**\n",
       "   - Integrate with one or two tiers of suppliers and logistics providers.\n",
       "   - Implement event monitoring and basic disruption alerts.\n",
       "   - Develop initial disruption prediction models.\n",
       "\n",
       "2. **Phase 2: Pilot Deployment (6–12 months)**\n",
       "   - Onboard multiple supply chain nodes.\n",
       "   - Develop multi-agent coordination for a subset of mitigation actions (e.g., rerouting + inventory reallocation).\n",
       "   - Build dashboard for visibility and human-in-the-loop interaction.\n",
       "\n",
       "3. **Phase 3: Full Autonomous Operations (12–24 months)**\n",
       "   - Expand autonomous decision-making coverage (procurement negotiation, fleet mgmt).\n",
       "   - Integrate advanced predictive modeling for ripple effects.\n",
       "   - Implement continuous learning modules.\n",
       "\n",
       "4. **Phase 4: Scaling & Customization (Post 24 months)**\n",
       "   - SaaS model targeting broader market segments with customizable agent modules.\n",
       "   - Expand integration ecosystem (new data sources, 3rd party logistics, customs APIs).\n",
       "   - Develop industry-specific variants (pharma, electronics, automotive, etc.).\n",
       "\n",
       "---\n",
       "\n",
       "### Potential Challenges and Mitigations\n",
       "\n",
       "| Challenge                     | Mitigation Approach                                                   |\n",
       "|-------------------------------|----------------------------------------------------------------------|\n",
       "| Data Silos & Integration       | Use standardized APIs, data lakes, and partner with key platforms.   |\n",
       "| Trust & Adoption              | Provide transparency, explainability, and human override controls.    |\n",
       "| Complex Multi-objective Trade-offs| Employ advanced optimization algorithms & customizable business rules. |\n",
       "| Security & Privacy            | Employ strong encryption, federated learning, and compliance with regulations.|\n",
       "\n",
       "---\n",
       "\n",
       "### Summary\n",
       "\n",
       "By deploying **AgileChain AI**, companies can move from reactive, manual disruption management to proactive, autonomous, and optimized resilience strategies—substantially reducing delay-driven costs and lost revenues. This Agentic AI solution leverages the unique power of multiple collaborating AI agents that monitor, predict, and act across complex supply chains, delivering unprecedented agility and competitive advantage in today’s volatile global trade environment."
      ],
      "text/plain": [
       "<IPython.core.display.Markdown object>"
      ]
     },
     "metadata": {},
     "output_type": "display_data"
    }
   ],
   "source": [
    "# First create the messages:\n",
    "\n",
    "messages = [{\"role\": \"user\", \"content\": \"pick a business area that might be worth exploring for an Agentic AI opportunity\"}]\n",
    "\n",
    "# Then make the first call:\n",
    "\n",
    "response = openai.chat.completions.create(\n",
    "    model=\"gpt-4.1-mini\",\n",
    "    messages=messages\n",
    ")\n",
    "\n",
    "# Then read the business idea:\n",
    "\n",
    "business_idea = response.choices[0].message.content\n",
    "\n",
    "# And repeat! In the next message, include the business idea within the message\n",
    "\n",
    "messages_2 = [{\"role\": \"user\", \"content\": \"present a pain-point in the industry \" + business_idea + \" - something challenging that might be ripe for an Agentic solution\"}]\n",
    "\n",
    "response_2 = openai.chat.completions.create(\n",
    "    model=\"gpt-4.1-mini\",\n",
    "    messages=messages_2\n",
    ")\n",
    "\n",
    "pain_point = response_2.choices[0].message.content\n",
    "\n",
    "messages_3 = [{\"role\": \"user\", \"content\": \"propose the Agentic AI solution  \" + business_idea + \" \" + pain_point}]\n",
    "\n",
    "response_3 = openai.chat.completions.create(\n",
    "    model=\"gpt-4.1-mini\",\n",
    "    messages=messages_3\n",
    ")\n",
    "\n",
    "solution = response_3.choices[0].message.content\n",
    "\n",
    "from IPython.display import Markdown, display\n",
    "\n",
    "print(\"business_idea\")\n",
    "display(Markdown(business_idea))\n",
    "print(\"pain_point\")\n",
    "display(Markdown(pain_point))\n",
    "print(\"solution\")\n",
    "display(Markdown(solution)) "
   ]
  },
  {
   "cell_type": "markdown",
   "metadata": {},
   "source": []
  }
 ],
 "metadata": {
  "kernelspec": {
   "display_name": ".venv",
   "language": "python",
   "name": "python3"
  },
  "language_info": {
   "codemirror_mode": {
    "name": "ipython",
    "version": 3
   },
   "file_extension": ".py",
   "mimetype": "text/x-python",
   "name": "python",
   "nbconvert_exporter": "python",
   "pygments_lexer": "ipython3",
   "version": "3.12.12"
  }
 },
 "nbformat": 4,
 "nbformat_minor": 2
}
